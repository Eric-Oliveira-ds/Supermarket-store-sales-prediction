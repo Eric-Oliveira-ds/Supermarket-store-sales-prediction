{
 "cells": [
  {
   "attachments": {},
   "cell_type": "markdown",
   "id": "0bff64e0-eb42-44de-9e4d-1cbfeb896240",
   "metadata": {
    "jp-MarkdownHeadingCollapsed": true,
    "tags": []
   },
   "source": [
    "# Problema de negócio"
   ]
  },
  {
   "attachments": {},
   "cell_type": "markdown",
   "id": "146675cf",
   "metadata": {},
   "source": [
    "**Análise de vendas de filiais de lojas de supermercado**\n",
    "\n",
    "Analisando as vendas das lojas e sua dependência da área das lojas e da contagem diária de clientes\n",
    "\n",
    "**Contexto**\n",
    "\n",
    "Um supermercado é uma loja de autoatendimento que oferece uma grande variedade de alimentos, bebidas e produtos domésticos, organizados em seções. Esse tipo de loja é maior e tem uma seleção mais ampla do que as mercearias anteriores, mas é menor e mais limitada na variedade de mercadorias do que um hipermercado ou um grande mercado. No uso diário dos EUA, no entanto, \"mercearia\" é sinônimo de supermercado e não é usado para se referir a outros tipos de lojas que vendem mantimentos.\n",
    "\n",
    "[https://www.kaggle.com/datasets/surajjha101/stores-area-and-sales-data?datasetId=2133850&sortBy=voteCount](https://www.kaggle.com/datasets/surajjha101/stores-area-and-sales-data?datasetId=2133850&sortBy=voteCount)\n",
    "\n",
    "**Como o problema é resolvido atualmente ?**\n",
    "\n",
    "    Os analistas de negócio usam a média das últimas vendas para estimar as próximas nas filiais em destaque.\n",
    "\n",
    "    Baseline = Média das últimas vendas\n",
    "\n",
    "    Deve-se calcular o erro que a atual solução traz e o seu custo financeiro\n",
    "\n",
    "    Alavancas ( aumento de vendas, redução de stockout, redução de custos, aumento de faturamento, previsão de demanda)"
   ]
  },
  {
   "attachments": {},
   "cell_type": "markdown",
   "id": "4bf9c60d-a395-4b57-ae4d-3a7ee6dff3bf",
   "metadata": {
    "tags": []
   },
   "source": [
    "# Entendimento dos dados"
   ]
  },
  {
   "attachments": {},
   "cell_type": "markdown",
   "id": "3be98f76",
   "metadata": {},
   "source": [
    "No conjunto de dados, você obterá dados de diferentes lojas de uma empresa de supermercado de acordo com seus IDs de loja que, para facilitar, foram convertidos em números inteiros positivos.\n",
    "\n",
    "**ID da loja:** (Índice) ID da loja específica.\n",
    "\n",
    "**Store_Area:** Área Física da loja em metro quadrado.\n",
    "\n",
    "**Items_Available:** Número de diferentes itens disponíveis na loja correspondente.\n",
    "\n",
    "**Daily_Customer_Count:** número de clientes que visitaram as lojas em média ao longo do mês.\n",
    "\n",
    "**Store_Sales:** Vendas em (US$) que as lojas realizaram."
   ]
  },
  {
   "attachments": {},
   "cell_type": "markdown",
   "id": "578390dd-e66e-474b-897e-0a7f127bba7c",
   "metadata": {},
   "source": [
    "# Separação dos dados\n",
    "\n",
    " - Separar treino e teste\n",
    " - A amostra de teste será a base de cálculo do ROI \n",
    " - Para calcular o ROI o baseline será a média de vendas por filial simulando a forma como os analistas de negócio estimam as vendas da rede de supermercados"
   ]
  },
  {
   "cell_type": "code",
   "execution_count": null,
   "id": "2c523ced",
   "metadata": {},
   "outputs": [],
   "source": []
  }
 ],
 "metadata": {
  "kernelspec": {
   "display_name": "Python 3 (ipykernel)",
   "language": "python",
   "name": "python3"
  },
  "language_info": {
   "codemirror_mode": {
    "name": "ipython",
    "version": 3
   },
   "file_extension": ".py",
   "mimetype": "text/x-python",
   "name": "python",
   "nbconvert_exporter": "python",
   "pygments_lexer": "ipython3",
   "version": "3.10.10"
  }
 },
 "nbformat": 4,
 "nbformat_minor": 5
}
