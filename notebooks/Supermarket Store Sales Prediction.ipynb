{
 "cells": [
  {
   "attachments": {},
   "cell_type": "markdown",
   "id": "0bff64e0-eb42-44de-9e4d-1cbfeb896240",
   "metadata": {
    "jp-MarkdownHeadingCollapsed": true,
    "tags": []
   },
   "source": [
    "# Problema de negócio"
   ]
  },
  {
   "attachments": {},
   "cell_type": "markdown",
   "id": "146675cf",
   "metadata": {},
   "source": [
    "**Análise de vendas de filiais de lojas de supermercado**\n",
    "\n",
    "Analisando as vendas das lojas e sua dependência da área das lojas e da contagem diária de clientes\n",
    "\n",
    "**Contexto**\n",
    "\n",
    "Um supermercado é uma loja de autoatendimento que oferece uma grande variedade de alimentos, bebidas e produtos domésticos, organizados em seções. Esse tipo de loja é maior e tem uma seleção mais ampla do que as mercearias anteriores, mas é menor e mais limitada na variedade de mercadorias do que um hipermercado ou um grande mercado. No uso diário dos EUA, no entanto, \"mercearia\" é sinônimo de supermercado e não é usado para se referir a outros tipos de lojas que vendem mantimentos.\n",
    "\n",
    "[https://www.kaggle.com/datasets/surajjha101/stores-area-and-sales-data?datasetId=2133850&sortBy=voteCount](https://www.kaggle.com/datasets/surajjha101/stores-area-and-sales-data?datasetId=2133850&sortBy=voteCount)\n",
    "\n",
    "**Como o problema é resolvido atualmente ?**\n",
    "\n",
    "    Os analistas de negócio usam a média das últimas vendas para estimar as próximas nas filiais em destaque.\n",
    "\n",
    "    Baseline = Média das últimas vendas\n",
    "\n",
    "    Deve-se calcular o erro que a atual solução traz e o seu custo financeiro\n",
    "\n",
    "    Alavancas ( aumento de vendas, redução de stockout, redução de custos, aumento de faturamento, previsão de demanda)"
   ]
  },
  {
   "attachments": {},
   "cell_type": "markdown",
   "id": "4bf9c60d-a395-4b57-ae4d-3a7ee6dff3bf",
   "metadata": {
    "tags": []
   },
   "source": [
    "# Entendimento dos dados"
   ]
  },
  {
   "attachments": {},
   "cell_type": "markdown",
   "id": "3be98f76",
   "metadata": {},
   "source": [
    "No conjunto de dados, você obterá dados de diferentes lojas de uma empresa de supermercado de acordo com seus IDs de loja que, para facilitar, foram convertidos em números inteiros positivos.\n",
    "\n",
    "**ID da loja:** (Índice) ID da loja específica.\n",
    "\n",
    "**Store_Area:** Área Física da loja em metro quadrado.\n",
    "\n",
    "**Items_Available:** Número de diferentes itens disponíveis na loja correspondente.\n",
    "\n",
    "**Daily_Customer_Count:** número de clientes que visitaram as lojas em média ao longo do mês.\n",
    "\n",
    "**Store_Sales:** Vendas em (US$) que as lojas realizaram."
   ]
  },
  {
   "attachments": {},
   "cell_type": "markdown",
   "id": "578390dd-e66e-474b-897e-0a7f127bba7c",
   "metadata": {},
   "source": [
    "# Separação dos dados\n",
    "\n",
    " - Separar treino e teste\n",
    " - A amostra de teste será a base de cálculo do ROI \n",
    " - Para calcular o ROI o baseline será a média de vendas por filial simulando a forma como os analistas de negócio estimam as vendas da rede de supermercados"
   ]
  },
  {
   "cell_type": "code",
   "execution_count": 2,
   "id": "2c523ced",
   "metadata": {},
   "outputs": [],
   "source": [
    "import pandas as pd\n",
    "from sklearn.model_selection import train_test_split"
   ]
  },
  {
   "cell_type": "code",
   "execution_count": 7,
   "id": "4efe075b",
   "metadata": {},
   "outputs": [],
   "source": [
    "path = r'C:\\Users\\erico\\Documents\\projeto-regressao\\Supermarket-store-sales-prediction\\data\\raw\\Stores.csv'\n",
    "\n",
    "data = pd.read_csv(path, sep=';')"
   ]
  },
  {
   "cell_type": "code",
   "execution_count": 8,
   "id": "b76ea28d",
   "metadata": {},
   "outputs": [
    {
     "data": {
      "text/html": [
       "<div>\n",
       "<style scoped>\n",
       "    .dataframe tbody tr th:only-of-type {\n",
       "        vertical-align: middle;\n",
       "    }\n",
       "\n",
       "    .dataframe tbody tr th {\n",
       "        vertical-align: top;\n",
       "    }\n",
       "\n",
       "    .dataframe thead th {\n",
       "        text-align: right;\n",
       "    }\n",
       "</style>\n",
       "<table border=\"1\" class=\"dataframe\">\n",
       "  <thead>\n",
       "    <tr style=\"text-align: right;\">\n",
       "      <th></th>\n",
       "      <th>Store ID</th>\n",
       "      <th>Store_Area</th>\n",
       "      <th>Items_Available</th>\n",
       "      <th>Daily_Customer_Count</th>\n",
       "      <th>Store_Sales</th>\n",
       "    </tr>\n",
       "  </thead>\n",
       "  <tbody>\n",
       "    <tr>\n",
       "      <th>0</th>\n",
       "      <td>1</td>\n",
       "      <td>1659</td>\n",
       "      <td>1961</td>\n",
       "      <td>530</td>\n",
       "      <td>66490</td>\n",
       "    </tr>\n",
       "    <tr>\n",
       "      <th>1</th>\n",
       "      <td>2</td>\n",
       "      <td>1461</td>\n",
       "      <td>1752</td>\n",
       "      <td>210</td>\n",
       "      <td>39820</td>\n",
       "    </tr>\n",
       "    <tr>\n",
       "      <th>2</th>\n",
       "      <td>3</td>\n",
       "      <td>1340</td>\n",
       "      <td>1609</td>\n",
       "      <td>720</td>\n",
       "      <td>54010</td>\n",
       "    </tr>\n",
       "    <tr>\n",
       "      <th>3</th>\n",
       "      <td>4</td>\n",
       "      <td>1451</td>\n",
       "      <td>1748</td>\n",
       "      <td>620</td>\n",
       "      <td>53730</td>\n",
       "    </tr>\n",
       "    <tr>\n",
       "      <th>4</th>\n",
       "      <td>5</td>\n",
       "      <td>1770</td>\n",
       "      <td>2111</td>\n",
       "      <td>450</td>\n",
       "      <td>46620</td>\n",
       "    </tr>\n",
       "  </tbody>\n",
       "</table>\n",
       "</div>"
      ],
      "text/plain": [
       "   Store ID   Store_Area  Items_Available  Daily_Customer_Count  Store_Sales\n",
       "0          1        1659             1961                   530        66490\n",
       "1          2        1461             1752                   210        39820\n",
       "2          3        1340             1609                   720        54010\n",
       "3          4        1451             1748                   620        53730\n",
       "4          5        1770             2111                   450        46620"
      ]
     },
     "execution_count": 8,
     "metadata": {},
     "output_type": "execute_result"
    }
   ],
   "source": [
    "data.head()"
   ]
  },
  {
   "cell_type": "code",
   "execution_count": 9,
   "id": "42e81d44",
   "metadata": {},
   "outputs": [],
   "source": [
    "train, test = train_test_split(data, test_size=0.20, random_state=42)"
   ]
  },
  {
   "cell_type": "code",
   "execution_count": 10,
   "id": "60b07baa",
   "metadata": {},
   "outputs": [
    {
     "data": {
      "text/plain": [
       "(716, 5)"
      ]
     },
     "execution_count": 10,
     "metadata": {},
     "output_type": "execute_result"
    }
   ],
   "source": [
    "train.shape"
   ]
  },
  {
   "cell_type": "code",
   "execution_count": 11,
   "id": "efa6ff7c",
   "metadata": {},
   "outputs": [
    {
     "data": {
      "text/plain": [
       "(180, 5)"
      ]
     },
     "execution_count": 11,
     "metadata": {},
     "output_type": "execute_result"
    }
   ],
   "source": [
    "test.shape"
   ]
  },
  {
   "cell_type": "code",
   "execution_count": 12,
   "id": "485cb4d1",
   "metadata": {},
   "outputs": [],
   "source": [
    "# ETL interim\n",
    "#train.to_csv(r'C:\\Users\\erico\\Documents\\projeto-regressao\\Supermarket-store-sales-prediction\\data\\interim\\train.csv',index=False)\n",
    "#test.to_csv(r'C:\\Users\\erico\\Documents\\projeto-regressao\\Supermarket-store-sales-prediction\\data\\interim\\test.csv',index=False)"
   ]
  },
  {
   "attachments": {},
   "cell_type": "markdown",
   "id": "ed230909",
   "metadata": {},
   "source": [
    "# EDA \n",
    " - Na amostra de treino apenas\n",
    " - O teste não será visto pois é para simular o ambiente em produção"
   ]
  },
  {
   "cell_type": "code",
   "execution_count": null,
   "id": "8ee51268",
   "metadata": {},
   "outputs": [],
   "source": []
  },
  {
   "cell_type": "code",
   "execution_count": null,
   "id": "f85f132c",
   "metadata": {},
   "outputs": [],
   "source": []
  },
  {
   "cell_type": "code",
   "execution_count": null,
   "id": "569ec801",
   "metadata": {},
   "outputs": [],
   "source": []
  },
  {
   "cell_type": "code",
   "execution_count": null,
   "id": "9feea73f",
   "metadata": {},
   "outputs": [],
   "source": []
  },
  {
   "cell_type": "code",
   "execution_count": null,
   "id": "9e852687",
   "metadata": {},
   "outputs": [],
   "source": []
  },
  {
   "attachments": {},
   "cell_type": "markdown",
   "id": "79c86c81",
   "metadata": {},
   "source": [
    "# Hipóteses de negócio"
   ]
  },
  {
   "attachments": {},
   "cell_type": "markdown",
   "id": "41b5f707",
   "metadata": {},
   "source": [
    "### 1 - Quanto maior a área física da loja maior as vendas !"
   ]
  },
  {
   "cell_type": "code",
   "execution_count": null,
   "id": "d9afe713",
   "metadata": {},
   "outputs": [],
   "source": []
  },
  {
   "attachments": {},
   "cell_type": "markdown",
   "id": "409c47ef",
   "metadata": {},
   "source": [
    "### 2 - Quanto mais itens disponíveis na loja maior as vendas !"
   ]
  },
  {
   "cell_type": "code",
   "execution_count": null,
   "id": "068e4da2",
   "metadata": {},
   "outputs": [],
   "source": []
  },
  {
   "attachments": {},
   "cell_type": "markdown",
   "id": "abaaf46b",
   "metadata": {},
   "source": [
    "### 3 - Quanto mais visitas na loja maior as vendas !"
   ]
  },
  {
   "cell_type": "code",
   "execution_count": null,
   "id": "3ca7682f",
   "metadata": {},
   "outputs": [],
   "source": []
  },
  {
   "attachments": {},
   "cell_type": "markdown",
   "id": "139c92fd",
   "metadata": {},
   "source": [
    "# Análise Multivariada"
   ]
  },
  {
   "cell_type": "code",
   "execution_count": null,
   "id": "4a74272b",
   "metadata": {},
   "outputs": [],
   "source": []
  },
  {
   "cell_type": "code",
   "execution_count": null,
   "id": "d9f3d37c",
   "metadata": {},
   "outputs": [],
   "source": []
  },
  {
   "attachments": {},
   "cell_type": "markdown",
   "id": "a4fa5800",
   "metadata": {},
   "source": [
    "# Análise Bivariada"
   ]
  },
  {
   "cell_type": "code",
   "execution_count": null,
   "id": "70fd3086",
   "metadata": {},
   "outputs": [],
   "source": []
  },
  {
   "cell_type": "code",
   "execution_count": null,
   "id": "81048ddb",
   "metadata": {},
   "outputs": [],
   "source": []
  },
  {
   "attachments": {},
   "cell_type": "markdown",
   "id": "92212749",
   "metadata": {},
   "source": [
    "# Análise Univariada"
   ]
  },
  {
   "cell_type": "code",
   "execution_count": null,
   "id": "5294ed4e",
   "metadata": {},
   "outputs": [],
   "source": []
  },
  {
   "cell_type": "code",
   "execution_count": null,
   "id": "8ef4947f",
   "metadata": {},
   "outputs": [],
   "source": []
  },
  {
   "attachments": {},
   "cell_type": "markdown",
   "id": "30dcd0d2",
   "metadata": {},
   "source": [
    "# Modelagem"
   ]
  },
  {
   "cell_type": "code",
   "execution_count": null,
   "id": "f3b4b2e7",
   "metadata": {},
   "outputs": [],
   "source": []
  },
  {
   "cell_type": "code",
   "execution_count": null,
   "id": "2112377f",
   "metadata": {},
   "outputs": [],
   "source": []
  },
  {
   "cell_type": "code",
   "execution_count": null,
   "id": "27e6d08c",
   "metadata": {},
   "outputs": [],
   "source": []
  },
  {
   "cell_type": "code",
   "execution_count": null,
   "id": "afa3a9c3",
   "metadata": {},
   "outputs": [],
   "source": []
  },
  {
   "attachments": {},
   "cell_type": "markdown",
   "id": "d6d5eebf",
   "metadata": {},
   "source": [
    "# Avaliação"
   ]
  },
  {
   "cell_type": "code",
   "execution_count": null,
   "id": "58b26d28",
   "metadata": {},
   "outputs": [],
   "source": []
  },
  {
   "cell_type": "code",
   "execution_count": null,
   "id": "16f0fd7d",
   "metadata": {},
   "outputs": [],
   "source": []
  },
  {
   "cell_type": "code",
   "execution_count": null,
   "id": "9abecaf3",
   "metadata": {},
   "outputs": [],
   "source": []
  },
  {
   "attachments": {},
   "cell_type": "markdown",
   "id": "bd54fdb8",
   "metadata": {},
   "source": [
    "# Deploy"
   ]
  },
  {
   "cell_type": "code",
   "execution_count": null,
   "id": "941ab546",
   "metadata": {},
   "outputs": [],
   "source": []
  },
  {
   "cell_type": "code",
   "execution_count": null,
   "id": "c735fe2b",
   "metadata": {},
   "outputs": [],
   "source": []
  },
  {
   "cell_type": "markdown",
   "id": "4db32f03",
   "metadata": {},
   "source": []
  }
 ],
 "metadata": {
  "kernelspec": {
   "display_name": "Python 3 (ipykernel)",
   "language": "python",
   "name": "python3"
  },
  "language_info": {
   "codemirror_mode": {
    "name": "ipython",
    "version": 3
   },
   "file_extension": ".py",
   "mimetype": "text/x-python",
   "name": "python",
   "nbconvert_exporter": "python",
   "pygments_lexer": "ipython3",
   "version": "3.10.10"
  }
 },
 "nbformat": 4,
 "nbformat_minor": 5
}
