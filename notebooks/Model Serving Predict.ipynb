{
 "cells": [
  {
   "attachments": {},
   "cell_type": "markdown",
   "metadata": {},
   "source": [
    "# Servir predições do modelo para o banco de dados\n",
    "\n",
    "    - Do banco de dados criar o dashboard no Power BI para o cliente consumir as predições do modelo\n",
    "    - A tabela final será salva em uma outra tabela que vai se chamar Supermarket_Silver sendo assim vai ser derivada da Gold.\n",
    "    - "
   ]
  },
  {
   "attachments": {},
   "cell_type": "markdown",
   "metadata": {},
   "source": [
    "# Bibliotecas"
   ]
  },
  {
   "cell_type": "code",
   "execution_count": 1,
   "metadata": {
    "tags": []
   },
   "outputs": [],
   "source": [
    "import pandas as pd\n",
    "import numpy as np\n",
    "import psycopg2\n",
    "import os\n",
    "\n",
    "import mlflow\n",
    "import mlflow.sklearn\n",
    "\n",
    "from dotenv import load_dotenv"
   ]
  },
  {
   "cell_type": "code",
   "execution_count": 2,
   "metadata": {
    "tags": []
   },
   "outputs": [
    {
     "data": {
      "text/plain": [
       "True"
      ]
     },
     "execution_count": 2,
     "metadata": {},
     "output_type": "execute_result"
    }
   ],
   "source": [
    "# Variáveis de ambiente\n",
    "dotenv_path = r\"C:\\Users\\erico\\Documents\\projeto-regressao\\Supermarket-store-sales-prediction\\.env\\.env\"\n",
    "load_dotenv(dotenv_path)"
   ]
  },
  {
   "cell_type": "code",
   "execution_count": 3,
   "metadata": {},
   "outputs": [],
   "source": [
    "# Utils\n",
    "def mean_absolute_percentage_error(y_true, yhat):\n",
    "    return np.mean(np.abs((y_true - yhat) / y_true))\n",
    "\n",
    "def mean_absolute_error(y_true, yhat):\n",
    "    return np.mean(np.abs(y_true - yhat))\n",
    "\n",
    "def root_mean_squared_error(y_true, yhat):\n",
    "    return np.sqrt(np.mean(np.square(y_true - yhat)))\n",
    "\n",
    "\n",
    "def calculate_model_revenue(df:pd.DataFrame):\n",
    "    \"\"\"\n",
    "    Calculates the return on investment (ROI) of a model relative to the mean baseline.\n",
    "\n",
    "    Args:\n",
    "        df : pandas.DataFrame, a dataframe containing the model's data.\n",
    "\n",
    "    Returns:\n",
    "        - \"baseline $\": the return on the mean baseline in dollars.\n",
    "        - \"model $\": the return on the model in dollars.\n",
    "        - \"diff Model/Baseline\": the difference between the sum of sales predicted by the model and the baseline, indicating how much more accurately the model predicted sales compared to the baseline.\n",
    "\n",
    "    This function calculates the ROI of a model by comparing it to a mean baseline. It takes in a pandas DataFrame containing the model's data and returns the return on the baseline, the return on the model, and the difference between the two. The function also prints out the results in a formatted way for easy interpretation. The output will tell whether the model performed better or worse than the baseline, and by how much. \n",
    "\n",
    "        \"\"\"\n",
    "    # Calcula o retorno do modelo em relação ao baseline de média\n",
    "    baseline_return = df['average_store_sales'].sum() - df['store_sales'].sum()\n",
    "    model_return = df['predict_store_sales'].sum() - df['store_sales'].sum()\n",
    "    diff_model_baseline = (model_return - baseline_return)\n",
    "    diff_percent = (diff_model_baseline / baseline_return) * 100\n",
    "    diff_percent_model_store_sales = (model_return / df['store_sales'].sum()) * 100\n",
    "    diff_percent_baseline_store_sales = (baseline_return / df['store_sales'].sum()) * 100\n",
    "\n",
    "    # Formata os resultados para exibição\n",
    "    baseline_return_formatted = f'${baseline_return:,.2f}'\n",
    "    model_return_formatted = f'${model_return:,.2f}'\n",
    "    diff_model_baseline_formatted = f'${diff_model_baseline:,.2f}'\n",
    "\n",
    "    print(f'O baseline de média previu {baseline_return_formatted} em relação as vendas reais.')\n",
    "    print(f'O modelo previu {model_return_formatted} em relação as vendas reais.')\n",
    "    print(f'A diferença percentual entre o modelo e as vendas reais são de {(diff_percent_model_store_sales):.2f}%')\n",
    "    print(f'A diferença percentual entre o baseline de média e as vendas reais são de {(diff_percent_baseline_store_sales):.2f}%')\n",
    "\n",
    "    if model_return > baseline_return:\n",
    "        print(f'O modelo consegue recuperar {diff_model_baseline_formatted} que eram perdidos ao usar a média como previsão de vendas!')\n",
    "    elif model_return == baseline_return:\n",
    "        print(f'O modelo obteve o mesmo resultado {diff_model_baseline_formatted} que era previsto ao usar a média como previsão de vendas!')\n",
    "    else:\n",
    "        print(f'O modelo obteve resultado pior que usar a média como previsão de vendas {diff_model_baseline_formatted} !')\n",
    "\n",
    "    return None"
   ]
  },
  {
   "attachments": {},
   "cell_type": "markdown",
   "metadata": {},
   "source": [
    "# Extração Supermarket Gold - Tabela FATO"
   ]
  },
  {
   "cell_type": "code",
   "execution_count": 4,
   "metadata": {
    "tags": []
   },
   "outputs": [],
   "source": [
    "# Conectar ao banco de dados\n",
    "conn = psycopg2.connect(\n",
    "    host=\"localhost\",\n",
    "    database=\"Supermarket\",\n",
    "    user=\"postgres\",\n",
    "    password=os.environ.get('PG_PASSWORD')\n",
    ")"
   ]
  },
  {
   "cell_type": "code",
   "execution_count": 5,
   "metadata": {},
   "outputs": [],
   "source": [
    "# Abrir um cursor para executar consultas\n",
    "cur = conn.cursor()\n",
    "cur.execute(\"ROLLBACK\")"
   ]
  },
  {
   "cell_type": "code",
   "execution_count": 6,
   "metadata": {},
   "outputs": [],
   "source": [
    "# Consultar o banco de dados e obter média das store_sales excluindo os últimos 180 dias que serão previstos pelo modelo de regressão linear\n",
    "\n",
    "query = \"\"\" SELECT AVG(store_sales) AS avg_sales\n",
    "            FROM Supermarket_Gold\n",
    "            WHERE sales_date < NOW() - INTERVAL '180 DAY'\n",
    "            AND store_id NOT IN (\n",
    "                                SELECT store_id\n",
    "                                FROM Supermarket_Gold\n",
    "                                WHERE sales_date >= NOW() - INTERVAL '180 DAY'\n",
    "                                );\n",
    "        \"\"\"\n",
    "\n",
    "cur.execute(query)\n",
    "mean_sales_30 = cur.fetchone()[0]"
   ]
  },
  {
   "cell_type": "code",
   "execution_count": 7,
   "metadata": {},
   "outputs": [
    {
     "data": {
      "text/plain": [
       "58812"
      ]
     },
     "execution_count": 7,
     "metadata": {},
     "output_type": "execute_result"
    }
   ],
   "source": [
    "# Média de vendas que será usada pelos analistas para prever as próximas vendas do mês que vem que é o teste que vai ser previsto pelo modelo\n",
    "int(mean_sales_30)"
   ]
  },
  {
   "cell_type": "code",
   "execution_count": 8,
   "metadata": {
    "tags": []
   },
   "outputs": [
    {
     "name": "stderr",
     "output_type": "stream",
     "text": [
      "C:\\Users\\erico\\AppData\\Local\\Temp\\ipykernel_132016\\1594901201.py:11: UserWarning: pandas only supports SQLAlchemy connectable (engine/connection) or database string URI or sqlite3 DBAPI2 connection. Other DBAPI2 objects are not tested. Please consider using SQLAlchemy.\n",
      "  df = pd.read_sql_query(query, conn)\n"
     ]
    }
   ],
   "source": [
    "# Consultar o banco de dados e criar o DataFrame pandas\n",
    "# Definir registros para predição\n",
    "# Últimos 180 store_id (180 dias)\n",
    "# Simulando novos registros \n",
    "\n",
    "query = \"\"\" SELECT * FROM Supermarket_Gold \n",
    "            ORDER BY store_id \n",
    "            DESC LIMIT 180; \n",
    "        \"\"\"\n",
    "\n",
    "df = pd.read_sql_query(query, conn)"
   ]
  },
  {
   "cell_type": "code",
   "execution_count": 9,
   "metadata": {
    "tags": []
   },
   "outputs": [
    {
     "data": {
      "text/html": [
       "<div>\n",
       "<style scoped>\n",
       "    .dataframe tbody tr th:only-of-type {\n",
       "        vertical-align: middle;\n",
       "    }\n",
       "\n",
       "    .dataframe tbody tr th {\n",
       "        vertical-align: top;\n",
       "    }\n",
       "\n",
       "    .dataframe thead th {\n",
       "        text-align: right;\n",
       "    }\n",
       "</style>\n",
       "<table border=\"1\" class=\"dataframe\">\n",
       "  <thead>\n",
       "    <tr style=\"text-align: right;\">\n",
       "      <th></th>\n",
       "      <th>store_id</th>\n",
       "      <th>sales_date</th>\n",
       "      <th>store_area</th>\n",
       "      <th>items_available</th>\n",
       "      <th>daily_customer_count</th>\n",
       "      <th>store_sales</th>\n",
       "    </tr>\n",
       "  </thead>\n",
       "  <tbody>\n",
       "    <tr>\n",
       "      <th>0</th>\n",
       "      <td>896</td>\n",
       "      <td>2023-06-15</td>\n",
       "      <td>1174</td>\n",
       "      <td>1429</td>\n",
       "      <td>1110</td>\n",
       "      <td>54340</td>\n",
       "    </tr>\n",
       "    <tr>\n",
       "      <th>1</th>\n",
       "      <td>895</td>\n",
       "      <td>2023-06-14</td>\n",
       "      <td>1299</td>\n",
       "      <td>1560</td>\n",
       "      <td>770</td>\n",
       "      <td>96610</td>\n",
       "    </tr>\n",
       "    <tr>\n",
       "      <th>2</th>\n",
       "      <td>894</td>\n",
       "      <td>2023-06-13</td>\n",
       "      <td>1200</td>\n",
       "      <td>1436</td>\n",
       "      <td>1060</td>\n",
       "      <td>76440</td>\n",
       "    </tr>\n",
       "    <tr>\n",
       "      <th>3</th>\n",
       "      <td>893</td>\n",
       "      <td>2023-06-12</td>\n",
       "      <td>1387</td>\n",
       "      <td>1663</td>\n",
       "      <td>850</td>\n",
       "      <td>82080</td>\n",
       "    </tr>\n",
       "    <tr>\n",
       "      <th>4</th>\n",
       "      <td>892</td>\n",
       "      <td>2023-06-11</td>\n",
       "      <td>1582</td>\n",
       "      <td>1910</td>\n",
       "      <td>1080</td>\n",
       "      <td>66390</td>\n",
       "    </tr>\n",
       "    <tr>\n",
       "      <th>...</th>\n",
       "      <td>...</td>\n",
       "      <td>...</td>\n",
       "      <td>...</td>\n",
       "      <td>...</td>\n",
       "      <td>...</td>\n",
       "      <td>...</td>\n",
       "    </tr>\n",
       "    <tr>\n",
       "      <th>175</th>\n",
       "      <td>721</td>\n",
       "      <td>2022-12-22</td>\n",
       "      <td>1118</td>\n",
       "      <td>1338</td>\n",
       "      <td>1040</td>\n",
       "      <td>40450</td>\n",
       "    </tr>\n",
       "    <tr>\n",
       "      <th>176</th>\n",
       "      <td>720</td>\n",
       "      <td>2022-12-21</td>\n",
       "      <td>1827</td>\n",
       "      <td>2160</td>\n",
       "      <td>930</td>\n",
       "      <td>36160</td>\n",
       "    </tr>\n",
       "    <tr>\n",
       "      <th>177</th>\n",
       "      <td>719</td>\n",
       "      <td>2022-12-20</td>\n",
       "      <td>1430</td>\n",
       "      <td>1743</td>\n",
       "      <td>970</td>\n",
       "      <td>53230</td>\n",
       "    </tr>\n",
       "    <tr>\n",
       "      <th>178</th>\n",
       "      <td>718</td>\n",
       "      <td>2022-12-19</td>\n",
       "      <td>1582</td>\n",
       "      <td>1894</td>\n",
       "      <td>1100</td>\n",
       "      <td>41800</td>\n",
       "    </tr>\n",
       "    <tr>\n",
       "      <th>179</th>\n",
       "      <td>717</td>\n",
       "      <td>2022-12-18</td>\n",
       "      <td>967</td>\n",
       "      <td>1154</td>\n",
       "      <td>560</td>\n",
       "      <td>45780</td>\n",
       "    </tr>\n",
       "  </tbody>\n",
       "</table>\n",
       "<p>180 rows × 6 columns</p>\n",
       "</div>"
      ],
      "text/plain": [
       "     store_id  sales_date  store_area  items_available  daily_customer_count  \\\n",
       "0         896  2023-06-15        1174             1429                  1110   \n",
       "1         895  2023-06-14        1299             1560                   770   \n",
       "2         894  2023-06-13        1200             1436                  1060   \n",
       "3         893  2023-06-12        1387             1663                   850   \n",
       "4         892  2023-06-11        1582             1910                  1080   \n",
       "..        ...         ...         ...              ...                   ...   \n",
       "175       721  2022-12-22        1118             1338                  1040   \n",
       "176       720  2022-12-21        1827             2160                   930   \n",
       "177       719  2022-12-20        1430             1743                   970   \n",
       "178       718  2022-12-19        1582             1894                  1100   \n",
       "179       717  2022-12-18         967             1154                   560   \n",
       "\n",
       "     store_sales  \n",
       "0          54340  \n",
       "1          96610  \n",
       "2          76440  \n",
       "3          82080  \n",
       "4          66390  \n",
       "..           ...  \n",
       "175        40450  \n",
       "176        36160  \n",
       "177        53230  \n",
       "178        41800  \n",
       "179        45780  \n",
       "\n",
       "[180 rows x 6 columns]"
      ]
     },
     "execution_count": 9,
     "metadata": {},
     "output_type": "execute_result"
    }
   ],
   "source": [
    "# Ver linhas do conjunto para previsão \n",
    "df"
   ]
  },
  {
   "cell_type": "code",
   "execution_count": 10,
   "metadata": {
    "tags": []
   },
   "outputs": [
    {
     "data": {
      "text/plain": [
       "(180, 6)"
      ]
     },
     "execution_count": 10,
     "metadata": {},
     "output_type": "execute_result"
    }
   ],
   "source": [
    "df.shape"
   ]
  },
  {
   "attachments": {},
   "cell_type": "markdown",
   "metadata": {},
   "source": [
    "# Mlflow - carregar modelos registrados com melhor performance para predição dos novos dados"
   ]
  },
  {
   "cell_type": "code",
   "execution_count": 11,
   "metadata": {},
   "outputs": [],
   "source": [
    "# Config Mlflow\n",
    "mlflow.set_tracking_uri('http://127.0.0.1:5000')"
   ]
  },
  {
   "cell_type": "code",
   "execution_count": 12,
   "metadata": {
    "tags": []
   },
   "outputs": [],
   "source": [
    "# Kmeans\n",
    "logged_model_cluster = 'runs:/b890ca82406845518c440af7491028c4/Kmeans_12'\n",
    "\n",
    "# Load model as a PyFuncModel.\n",
    "km_model = mlflow.pyfunc.load_model(logged_model_cluster)"
   ]
  },
  {
   "cell_type": "code",
   "execution_count": 13,
   "metadata": {
    "tags": []
   },
   "outputs": [],
   "source": [
    "# Regressão Linear \n",
    "\n",
    "logged_model_sales = 'runs:/0951c733113245be85b36d06bf882950/linear_regression_opt_roi'\n",
    "# Load model as a PyFuncModel.\n",
    "lr_model = mlflow.pyfunc.load_model(logged_model_sales)"
   ]
  },
  {
   "attachments": {},
   "cell_type": "markdown",
   "metadata": {},
   "source": [
    "# Criação de variáveis\n",
    "    - Aplicar modelo de clusterização para criar a coluna store_cluster"
   ]
  },
  {
   "cell_type": "code",
   "execution_count": 14,
   "metadata": {},
   "outputs": [],
   "source": [
    "# Prever cluster\n",
    "cluster = km_model.predict(df.drop(['store_id','sales_date','store_sales'], axis=1))\n",
    "# Adicionar labels ao conjunto de teste\n",
    "df['store_cluster'] = cluster"
   ]
  },
  {
   "cell_type": "code",
   "execution_count": 15,
   "metadata": {},
   "outputs": [
    {
     "data": {
      "text/html": [
       "<div>\n",
       "<style scoped>\n",
       "    .dataframe tbody tr th:only-of-type {\n",
       "        vertical-align: middle;\n",
       "    }\n",
       "\n",
       "    .dataframe tbody tr th {\n",
       "        vertical-align: top;\n",
       "    }\n",
       "\n",
       "    .dataframe thead th {\n",
       "        text-align: right;\n",
       "    }\n",
       "</style>\n",
       "<table border=\"1\" class=\"dataframe\">\n",
       "  <thead>\n",
       "    <tr style=\"text-align: right;\">\n",
       "      <th></th>\n",
       "      <th>store_id</th>\n",
       "      <th>sales_date</th>\n",
       "      <th>store_area</th>\n",
       "      <th>items_available</th>\n",
       "      <th>daily_customer_count</th>\n",
       "      <th>store_sales</th>\n",
       "      <th>store_cluster</th>\n",
       "    </tr>\n",
       "  </thead>\n",
       "  <tbody>\n",
       "    <tr>\n",
       "      <th>0</th>\n",
       "      <td>896</td>\n",
       "      <td>2023-06-15</td>\n",
       "      <td>1174</td>\n",
       "      <td>1429</td>\n",
       "      <td>1110</td>\n",
       "      <td>54340</td>\n",
       "      <td>11</td>\n",
       "    </tr>\n",
       "    <tr>\n",
       "      <th>1</th>\n",
       "      <td>895</td>\n",
       "      <td>2023-06-14</td>\n",
       "      <td>1299</td>\n",
       "      <td>1560</td>\n",
       "      <td>770</td>\n",
       "      <td>96610</td>\n",
       "      <td>1</td>\n",
       "    </tr>\n",
       "    <tr>\n",
       "      <th>2</th>\n",
       "      <td>894</td>\n",
       "      <td>2023-06-13</td>\n",
       "      <td>1200</td>\n",
       "      <td>1436</td>\n",
       "      <td>1060</td>\n",
       "      <td>76440</td>\n",
       "      <td>11</td>\n",
       "    </tr>\n",
       "    <tr>\n",
       "      <th>3</th>\n",
       "      <td>893</td>\n",
       "      <td>2023-06-12</td>\n",
       "      <td>1387</td>\n",
       "      <td>1663</td>\n",
       "      <td>850</td>\n",
       "      <td>82080</td>\n",
       "      <td>2</td>\n",
       "    </tr>\n",
       "    <tr>\n",
       "      <th>4</th>\n",
       "      <td>892</td>\n",
       "      <td>2023-06-11</td>\n",
       "      <td>1582</td>\n",
       "      <td>1910</td>\n",
       "      <td>1080</td>\n",
       "      <td>66390</td>\n",
       "      <td>6</td>\n",
       "    </tr>\n",
       "  </tbody>\n",
       "</table>\n",
       "</div>"
      ],
      "text/plain": [
       "   store_id  sales_date  store_area  items_available  daily_customer_count  \\\n",
       "0       896  2023-06-15        1174             1429                  1110   \n",
       "1       895  2023-06-14        1299             1560                   770   \n",
       "2       894  2023-06-13        1200             1436                  1060   \n",
       "3       893  2023-06-12        1387             1663                   850   \n",
       "4       892  2023-06-11        1582             1910                  1080   \n",
       "\n",
       "   store_sales  store_cluster  \n",
       "0        54340             11  \n",
       "1        96610              1  \n",
       "2        76440             11  \n",
       "3        82080              2  \n",
       "4        66390              6  "
      ]
     },
     "execution_count": 15,
     "metadata": {},
     "output_type": "execute_result"
    }
   ],
   "source": [
    "df.head()"
   ]
  },
  {
   "attachments": {},
   "cell_type": "markdown",
   "metadata": {},
   "source": [
    "# Prevendo novos dados "
   ]
  },
  {
   "cell_type": "code",
   "execution_count": 16,
   "metadata": {},
   "outputs": [],
   "source": [
    "# Separar variáveis independentes e dependente\n",
    "X_test = df.drop(['sales_date','store_sales','daily_customer_count'], axis=1)\n",
    "y_test = df['store_sales']"
   ]
  },
  {
   "cell_type": "code",
   "execution_count": 17,
   "metadata": {},
   "outputs": [],
   "source": [
    "# prevendo com modelo de regressão linear\n",
    "y_pred = lr_model.predict(X_test)"
   ]
  },
  {
   "cell_type": "code",
   "execution_count": 18,
   "metadata": {},
   "outputs": [],
   "source": [
    "# adiciona previsão do modelo a base de teste original\n",
    "df['predict_store_sales'] = y_pred"
   ]
  },
  {
   "cell_type": "code",
   "execution_count": 19,
   "metadata": {},
   "outputs": [],
   "source": [
    "# adiciona previsão de média do baseline a base de teste original\n",
    "df['average_store_sales'] = int(mean_sales_30)"
   ]
  },
  {
   "cell_type": "code",
   "execution_count": 20,
   "metadata": {},
   "outputs": [
    {
     "data": {
      "text/html": [
       "<div>\n",
       "<style scoped>\n",
       "    .dataframe tbody tr th:only-of-type {\n",
       "        vertical-align: middle;\n",
       "    }\n",
       "\n",
       "    .dataframe tbody tr th {\n",
       "        vertical-align: top;\n",
       "    }\n",
       "\n",
       "    .dataframe thead th {\n",
       "        text-align: right;\n",
       "    }\n",
       "</style>\n",
       "<table border=\"1\" class=\"dataframe\">\n",
       "  <thead>\n",
       "    <tr style=\"text-align: right;\">\n",
       "      <th></th>\n",
       "      <th>store_id</th>\n",
       "      <th>sales_date</th>\n",
       "      <th>store_area</th>\n",
       "      <th>items_available</th>\n",
       "      <th>daily_customer_count</th>\n",
       "      <th>store_sales</th>\n",
       "      <th>store_cluster</th>\n",
       "      <th>predict_store_sales</th>\n",
       "      <th>average_store_sales</th>\n",
       "    </tr>\n",
       "  </thead>\n",
       "  <tbody>\n",
       "    <tr>\n",
       "      <th>0</th>\n",
       "      <td>896</td>\n",
       "      <td>2023-06-15</td>\n",
       "      <td>1174</td>\n",
       "      <td>1429</td>\n",
       "      <td>1110</td>\n",
       "      <td>54340</td>\n",
       "      <td>11</td>\n",
       "      <td>58334.967015</td>\n",
       "      <td>58812</td>\n",
       "    </tr>\n",
       "    <tr>\n",
       "      <th>1</th>\n",
       "      <td>895</td>\n",
       "      <td>2023-06-14</td>\n",
       "      <td>1299</td>\n",
       "      <td>1560</td>\n",
       "      <td>770</td>\n",
       "      <td>96610</td>\n",
       "      <td>1</td>\n",
       "      <td>59284.845700</td>\n",
       "      <td>58812</td>\n",
       "    </tr>\n",
       "    <tr>\n",
       "      <th>2</th>\n",
       "      <td>894</td>\n",
       "      <td>2023-06-13</td>\n",
       "      <td>1200</td>\n",
       "      <td>1436</td>\n",
       "      <td>1060</td>\n",
       "      <td>76440</td>\n",
       "      <td>11</td>\n",
       "      <td>58385.795468</td>\n",
       "      <td>58812</td>\n",
       "    </tr>\n",
       "    <tr>\n",
       "      <th>3</th>\n",
       "      <td>893</td>\n",
       "      <td>2023-06-12</td>\n",
       "      <td>1387</td>\n",
       "      <td>1663</td>\n",
       "      <td>850</td>\n",
       "      <td>82080</td>\n",
       "      <td>2</td>\n",
       "      <td>60171.024152</td>\n",
       "      <td>58812</td>\n",
       "    </tr>\n",
       "    <tr>\n",
       "      <th>4</th>\n",
       "      <td>892</td>\n",
       "      <td>2023-06-11</td>\n",
       "      <td>1582</td>\n",
       "      <td>1910</td>\n",
       "      <td>1080</td>\n",
       "      <td>66390</td>\n",
       "      <td>6</td>\n",
       "      <td>62339.168024</td>\n",
       "      <td>58812</td>\n",
       "    </tr>\n",
       "  </tbody>\n",
       "</table>\n",
       "</div>"
      ],
      "text/plain": [
       "   store_id  sales_date  store_area  items_available  daily_customer_count  \\\n",
       "0       896  2023-06-15        1174             1429                  1110   \n",
       "1       895  2023-06-14        1299             1560                   770   \n",
       "2       894  2023-06-13        1200             1436                  1060   \n",
       "3       893  2023-06-12        1387             1663                   850   \n",
       "4       892  2023-06-11        1582             1910                  1080   \n",
       "\n",
       "   store_sales  store_cluster  predict_store_sales  average_store_sales  \n",
       "0        54340             11         58334.967015                58812  \n",
       "1        96610              1         59284.845700                58812  \n",
       "2        76440             11         58385.795468                58812  \n",
       "3        82080              2         60171.024152                58812  \n",
       "4        66390              6         62339.168024                58812  "
      ]
     },
     "execution_count": 20,
     "metadata": {},
     "output_type": "execute_result"
    }
   ],
   "source": [
    "df.head()"
   ]
  },
  {
   "cell_type": "code",
   "execution_count": 21,
   "metadata": {},
   "outputs": [],
   "source": [
    "# adiciona as métricas técnicas ao dataframe, só teria estas métricas após ter a Target disponível, os dados em produção não teria esta Target store_sales para ser possível metrificar. \n",
    "# Só após ter ela dísponivel !\n",
    "df['mae_model'] = df.apply(lambda x: mean_absolute_error(x['store_sales'], x['predict_store_sales']),axis=1) \n",
    "df['mape_model'] = df.apply(lambda x: mean_absolute_percentage_error(x['store_sales'], x['predict_store_sales']),axis=1) \n",
    "df['rmse_model'] = df.apply(lambda x: root_mean_squared_error(x['store_sales'], x['predict_store_sales']),axis=1) \n",
    "\n",
    "df['best_scenario_model'] = df['predict_store_sales'] + df['mae_model']\n",
    "df['worst_scenario_model'] = df['predict_store_sales'] - df['mae_model']"
   ]
  },
  {
   "attachments": {},
   "cell_type": "markdown",
   "metadata": {},
   "source": [
    "# Calcular performance de negócio"
   ]
  },
  {
   "cell_type": "code",
   "execution_count": 22,
   "metadata": {},
   "outputs": [
    {
     "name": "stdout",
     "output_type": "stream",
     "text": [
      "O baseline de média previu $-376,530.00 em relação as vendas reais.\n",
      "O modelo previu $-46,429.78 em relação as vendas reais.\n",
      "A diferença percentual entre o modelo e as vendas reais são de -0.42%\n",
      "A diferença percentual entre o baseline de média e as vendas reais são de -3.43%\n",
      "O modelo consegue recuperar $330,100.22 que eram perdidos ao usar a média como previsão de vendas!\n"
     ]
    }
   ],
   "source": [
    "calculate_model_revenue(df)"
   ]
  },
  {
   "attachments": {},
   "cell_type": "markdown",
   "metadata": {},
   "source": [
    "# Carga da tabela final para o banco de dados (Supermarket_Silver)"
   ]
  },
  {
   "cell_type": "code",
   "execution_count": 23,
   "metadata": {},
   "outputs": [
    {
     "data": {
      "text/html": [
       "<div>\n",
       "<style scoped>\n",
       "    .dataframe tbody tr th:only-of-type {\n",
       "        vertical-align: middle;\n",
       "    }\n",
       "\n",
       "    .dataframe tbody tr th {\n",
       "        vertical-align: top;\n",
       "    }\n",
       "\n",
       "    .dataframe thead th {\n",
       "        text-align: right;\n",
       "    }\n",
       "</style>\n",
       "<table border=\"1\" class=\"dataframe\">\n",
       "  <thead>\n",
       "    <tr style=\"text-align: right;\">\n",
       "      <th></th>\n",
       "      <th>store_id</th>\n",
       "      <th>sales_date</th>\n",
       "      <th>store_area</th>\n",
       "      <th>items_available</th>\n",
       "      <th>daily_customer_count</th>\n",
       "      <th>store_sales</th>\n",
       "      <th>store_cluster</th>\n",
       "      <th>predict_store_sales</th>\n",
       "      <th>average_store_sales</th>\n",
       "      <th>mae_model</th>\n",
       "      <th>mape_model</th>\n",
       "      <th>rmse_model</th>\n",
       "      <th>best_scenario_model</th>\n",
       "      <th>worst_scenario_model</th>\n",
       "    </tr>\n",
       "  </thead>\n",
       "  <tbody>\n",
       "    <tr>\n",
       "      <th>0</th>\n",
       "      <td>896</td>\n",
       "      <td>2023-06-15</td>\n",
       "      <td>1174</td>\n",
       "      <td>1429</td>\n",
       "      <td>1110</td>\n",
       "      <td>54340</td>\n",
       "      <td>11</td>\n",
       "      <td>58334.967015</td>\n",
       "      <td>58812</td>\n",
       "      <td>3994.967015</td>\n",
       "      <td>0.073518</td>\n",
       "      <td>3994.967015</td>\n",
       "      <td>62329.934029</td>\n",
       "      <td>54340.000000</td>\n",
       "    </tr>\n",
       "    <tr>\n",
       "      <th>1</th>\n",
       "      <td>895</td>\n",
       "      <td>2023-06-14</td>\n",
       "      <td>1299</td>\n",
       "      <td>1560</td>\n",
       "      <td>770</td>\n",
       "      <td>96610</td>\n",
       "      <td>1</td>\n",
       "      <td>59284.845700</td>\n",
       "      <td>58812</td>\n",
       "      <td>37325.154300</td>\n",
       "      <td>0.386349</td>\n",
       "      <td>37325.154300</td>\n",
       "      <td>96610.000000</td>\n",
       "      <td>21959.691400</td>\n",
       "    </tr>\n",
       "    <tr>\n",
       "      <th>2</th>\n",
       "      <td>894</td>\n",
       "      <td>2023-06-13</td>\n",
       "      <td>1200</td>\n",
       "      <td>1436</td>\n",
       "      <td>1060</td>\n",
       "      <td>76440</td>\n",
       "      <td>11</td>\n",
       "      <td>58385.795468</td>\n",
       "      <td>58812</td>\n",
       "      <td>18054.204532</td>\n",
       "      <td>0.236188</td>\n",
       "      <td>18054.204532</td>\n",
       "      <td>76440.000000</td>\n",
       "      <td>40331.590935</td>\n",
       "    </tr>\n",
       "    <tr>\n",
       "      <th>3</th>\n",
       "      <td>893</td>\n",
       "      <td>2023-06-12</td>\n",
       "      <td>1387</td>\n",
       "      <td>1663</td>\n",
       "      <td>850</td>\n",
       "      <td>82080</td>\n",
       "      <td>2</td>\n",
       "      <td>60171.024152</td>\n",
       "      <td>58812</td>\n",
       "      <td>21908.975848</td>\n",
       "      <td>0.266922</td>\n",
       "      <td>21908.975848</td>\n",
       "      <td>82080.000000</td>\n",
       "      <td>38262.048303</td>\n",
       "    </tr>\n",
       "    <tr>\n",
       "      <th>4</th>\n",
       "      <td>892</td>\n",
       "      <td>2023-06-11</td>\n",
       "      <td>1582</td>\n",
       "      <td>1910</td>\n",
       "      <td>1080</td>\n",
       "      <td>66390</td>\n",
       "      <td>6</td>\n",
       "      <td>62339.168024</td>\n",
       "      <td>58812</td>\n",
       "      <td>4050.831976</td>\n",
       "      <td>0.061016</td>\n",
       "      <td>4050.831976</td>\n",
       "      <td>66390.000000</td>\n",
       "      <td>58288.336047</td>\n",
       "    </tr>\n",
       "  </tbody>\n",
       "</table>\n",
       "</div>"
      ],
      "text/plain": [
       "   store_id  sales_date  store_area  items_available  daily_customer_count  \\\n",
       "0       896  2023-06-15        1174             1429                  1110   \n",
       "1       895  2023-06-14        1299             1560                   770   \n",
       "2       894  2023-06-13        1200             1436                  1060   \n",
       "3       893  2023-06-12        1387             1663                   850   \n",
       "4       892  2023-06-11        1582             1910                  1080   \n",
       "\n",
       "   store_sales  store_cluster  predict_store_sales  average_store_sales  \\\n",
       "0        54340             11         58334.967015                58812   \n",
       "1        96610              1         59284.845700                58812   \n",
       "2        76440             11         58385.795468                58812   \n",
       "3        82080              2         60171.024152                58812   \n",
       "4        66390              6         62339.168024                58812   \n",
       "\n",
       "      mae_model  mape_model    rmse_model  best_scenario_model  \\\n",
       "0   3994.967015    0.073518   3994.967015         62329.934029   \n",
       "1  37325.154300    0.386349  37325.154300         96610.000000   \n",
       "2  18054.204532    0.236188  18054.204532         76440.000000   \n",
       "3  21908.975848    0.266922  21908.975848         82080.000000   \n",
       "4   4050.831976    0.061016   4050.831976         66390.000000   \n",
       "\n",
       "   worst_scenario_model  \n",
       "0          54340.000000  \n",
       "1          21959.691400  \n",
       "2          40331.590935  \n",
       "3          38262.048303  \n",
       "4          58288.336047  "
      ]
     },
     "execution_count": 23,
     "metadata": {},
     "output_type": "execute_result"
    }
   ],
   "source": [
    "df.head()"
   ]
  },
  {
   "cell_type": "code",
   "execution_count": 24,
   "metadata": {},
   "outputs": [
    {
     "data": {
      "text/plain": [
       "(180, 14)"
      ]
     },
     "execution_count": 24,
     "metadata": {},
     "output_type": "execute_result"
    }
   ],
   "source": [
    "df.shape"
   ]
  },
  {
   "cell_type": "code",
   "execution_count": 25,
   "metadata": {},
   "outputs": [],
   "source": [
    "# Executar uma consulta SQL para verificar se a tabela já existe\n",
    "cur.execute(\"\"\"\n",
    "    SELECT EXISTS (\n",
    "        SELECT 1\n",
    "        FROM   information_schema.tables \n",
    "        WHERE  table_name = 'Supermarket_Silver'\n",
    "    );\n",
    "\"\"\")\n",
    "\n",
    "# Recuperar o resultado da consulta\n",
    "table_exists = cur.fetchone()[0]\n",
    "\n",
    "# Se a tabela não existir, criar a tabela\n",
    "if not table_exists:\n",
    "    cur.execute(\"\"\"\n",
    "        CREATE TABLE IF NOT EXISTS Supermarket_Silver (\n",
    "            store_id INT PRIMARY KEY,\n",
    "            sales_date DATE,\n",
    "            store_area INT,\n",
    "            items_available INT,\n",
    "            daily_customer_count INT,\n",
    "            store_sales INT,\n",
    "            store_cluster INT,\n",
    "            predict_store_sales FLOAT,\n",
    "            average_store_sales INT,\n",
    "            mae_model FLOAT,\n",
    "            mape_model FLOAT,\n",
    "            rmse_model FLOAT,\n",
    "            best_scenario_model FLOAT,\n",
    "            worst_scenario_model FLOAT\n",
    "        );\n",
    "    \"\"\")\n",
    "    conn.commit()"
   ]
  },
  {
   "cell_type": "code",
   "execution_count": 26,
   "metadata": {},
   "outputs": [],
   "source": [
    "# Popular banco de dados\n",
    "\n",
    "# Loop através das linhas do dataframe e inserir cada linha na tabela\n",
    "for index, row in df.iterrows():\n",
    "    cur.execute(\"\"\"\n",
    "        INSERT INTO Supermarket_Silver (store_id, sales_date, store_area, items_available, daily_customer_count, store_sales, store_cluster, predict_store_sales, average_store_sales,\n",
    "        mae_model, mape_model, rmse_model, best_scenario_model, worst_scenario_model)\n",
    "        VALUES (%s, %s, %s, %s, %s, %s, %s, %s, %s, %s, %s, %s, %s, %s)\n",
    "        ON CONFLICT DO NOTHING;\n",
    "    \"\"\", (\n",
    "        int(row['store_id']),\n",
    "        row['sales_date'],\n",
    "        int(row['store_area']),\n",
    "        int(row['items_available']),\n",
    "        int(row['daily_customer_count']),\n",
    "        int(row['store_sales']),\n",
    "        int(row['store_cluster']),\n",
    "        float(row['predict_store_sales']),\n",
    "        int(row['average_store_sales']),\n",
    "        float(row['mae_model']),\n",
    "        float(row['mape_model']),\n",
    "        float(row['rmse_model']),\n",
    "        float(row['best_scenario_model']),\n",
    "        float(row['worst_scenario_model'])\n",
    "    ))\n",
    "\n",
    "# Salvar as alterações no banco de dados\n",
    "conn.commit()\n",
    "\n",
    "# Fechar o cursor e a conexão com o banco de dados\n",
    "cur.close()\n",
    "conn.close()"
   ]
  }
 ],
 "metadata": {
  "kernelspec": {
   "display_name": "Python 3 (ipykernel)",
   "language": "python",
   "name": "python3"
  },
  "language_info": {
   "codemirror_mode": {
    "name": "ipython",
    "version": 3
   },
   "file_extension": ".py",
   "mimetype": "text/x-python",
   "name": "python",
   "nbconvert_exporter": "python",
   "pygments_lexer": "ipython3",
   "version": "3.10.10"
  }
 },
 "nbformat": 4,
 "nbformat_minor": 4
}
