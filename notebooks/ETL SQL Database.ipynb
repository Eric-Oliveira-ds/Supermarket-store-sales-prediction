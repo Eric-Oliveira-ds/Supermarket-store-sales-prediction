{
 "cells": [
  {
   "cell_type": "code",
   "execution_count": 1,
   "id": "dab8be18-5d4c-480e-a403-7a773fb30804",
   "metadata": {
    "tags": []
   },
   "outputs": [],
   "source": [
    "import pandas as pd\n",
    "import psycopg2\n",
    "import numpy as np"
   ]
  },
  {
   "cell_type": "code",
   "execution_count": 2,
   "id": "36ee2ac7-78a9-44c6-8751-c693e2e76936",
   "metadata": {
    "tags": []
   },
   "outputs": [],
   "source": [
    "raw = pd.read_csv(r'C:\\Users\\erico\\Documents\\projeto-regressao\\Supermarket-store-sales-prediction\\data\\raw\\Stores.csv', delimiter=';')"
   ]
  },
  {
   "cell_type": "code",
   "execution_count": 3,
   "id": "bdd1d776-02ff-46b9-80a5-f1d3aebb6c77",
   "metadata": {
    "tags": []
   },
   "outputs": [
    {
     "name": "stdout",
     "output_type": "stream",
     "text": [
      "<class 'pandas.core.frame.DataFrame'>\n",
      "RangeIndex: 896 entries, 0 to 895\n",
      "Data columns (total 5 columns):\n",
      " #   Column                Non-Null Count  Dtype\n",
      "---  ------                --------------  -----\n",
      " 0   Store ID              896 non-null    int64\n",
      " 1   Store_Area            896 non-null    int64\n",
      " 2   Items_Available       896 non-null    int64\n",
      " 3   Daily_Customer_Count  896 non-null    int64\n",
      " 4   Store_Sales           896 non-null    int64\n",
      "dtypes: int64(5)\n",
      "memory usage: 35.1 KB\n"
     ]
    }
   ],
   "source": [
    "raw.info()"
   ]
  },
  {
   "cell_type": "code",
   "execution_count": 5,
   "id": "9e5c316d-b6cc-4658-8b16-5afb7e451605",
   "metadata": {
    "tags": []
   },
   "outputs": [
    {
     "ename": "DuplicateTable",
     "evalue": "relation \"supermarket_gold\" already exists\n",
     "output_type": "error",
     "traceback": [
      "\u001b[1;31m---------------------------------------------------------------------------\u001b[0m",
      "\u001b[1;31mDuplicateTable\u001b[0m                            Traceback (most recent call last)",
      "Cell \u001b[1;32mIn[5], line 27\u001b[0m\n\u001b[0;32m     25\u001b[0m \u001b[38;5;66;03m# Se a tabela não existir, criar a tabela\u001b[39;00m\n\u001b[0;32m     26\u001b[0m \u001b[38;5;28;01mif\u001b[39;00m \u001b[38;5;129;01mnot\u001b[39;00m table_exists:\n\u001b[1;32m---> 27\u001b[0m     \u001b[43mcur\u001b[49m\u001b[38;5;241;43m.\u001b[39;49m\u001b[43mexecute\u001b[49m\u001b[43m(\u001b[49m\u001b[38;5;124;43m\"\"\"\u001b[39;49m\n\u001b[0;32m     28\u001b[0m \u001b[38;5;124;43m        CREATE TABLE Supermarket_Gold (\u001b[39;49m\n\u001b[0;32m     29\u001b[0m \u001b[38;5;124;43m            store_id INT PRIMARY KEY,\u001b[39;49m\n\u001b[0;32m     30\u001b[0m \u001b[38;5;124;43m            store_area INT,\u001b[39;49m\n\u001b[0;32m     31\u001b[0m \u001b[38;5;124;43m            items_available INT,\u001b[39;49m\n\u001b[0;32m     32\u001b[0m \u001b[38;5;124;43m            daily_customer_count INT,\u001b[39;49m\n\u001b[0;32m     33\u001b[0m \u001b[38;5;124;43m            store_sales INT\u001b[39;49m\n\u001b[0;32m     34\u001b[0m \u001b[38;5;124;43m        );\u001b[39;49m\n\u001b[0;32m     35\u001b[0m \u001b[38;5;124;43m    \u001b[39;49m\u001b[38;5;124;43m\"\"\"\u001b[39;49m\u001b[43m)\u001b[49m\n\u001b[0;32m     36\u001b[0m     conn\u001b[38;5;241m.\u001b[39mcommit()\n",
      "\u001b[1;31mDuplicateTable\u001b[0m: relation \"supermarket_gold\" already exists\n"
     ]
    }
   ],
   "source": [
    "# Conectar ao banco de dados\n",
    "conn = psycopg2.connect(\n",
    "    host=\"localhost\",\n",
    "    database=\"Supermarket\",\n",
    "    user=\"postgres\",\n",
    "    password=\"123456\"\n",
    ")\n",
    "\n",
    "# Abrir um cursor para executar consultas\n",
    "cur = conn.cursor()\n",
    "cur.execute(\"ROLLBACK\")\n",
    "\n",
    "# Executar uma consulta SQL para verificar se a tabela já existe\n",
    "cur.execute(\"\"\"\n",
    "    SELECT EXISTS (\n",
    "        SELECT 1\n",
    "        FROM   information_schema.tables \n",
    "        WHERE  table_name = 'Supermarket_Gold'\n",
    "    );\n",
    "\"\"\")\n",
    "\n",
    "# Recuperar o resultado da consulta\n",
    "table_exists = cur.fetchone()[0]\n",
    "\n",
    "# Se a tabela não existir, criar a tabela\n",
    "if not table_exists:\n",
    "    cur.execute(\"\"\"\n",
    "        CREATE TABLE Supermarket_Gold (\n",
    "            store_id INT PRIMARY KEY,\n",
    "            store_area INT,\n",
    "            items_available INT,\n",
    "            daily_customer_count INT,\n",
    "            store_sales INT\n",
    "        );\n",
    "    \"\"\")\n",
    "    conn.commit()"
   ]
  },
  {
   "cell_type": "code",
   "execution_count": 7,
   "id": "2d5b3b5e-8ecc-4fe5-a435-adacad7d496c",
   "metadata": {
    "tags": []
   },
   "outputs": [],
   "source": [
    "# Popular banco de dados\n",
    "\n",
    "# Loop através das linhas do dataframe e inserir cada linha na tabela\n",
    "for index, row in raw.iterrows():\n",
    "    cur.execute(\"\"\"\n",
    "        INSERT INTO Supermarket_Gold (store_id, store_area, items_available, daily_customer_count, store_sales)\n",
    "        VALUES (%s, %s, %s, %s, %s)\n",
    "        ON CONFLICT DO NOTHING;\n",
    "    \"\"\", (\n",
    "        int(row['Store ID ']),\n",
    "        int(row['Store_Area']),\n",
    "        int(row['Items_Available']),\n",
    "        int(row['Daily_Customer_Count']),\n",
    "        int(row['Store_Sales'])\n",
    "    ))\n",
    "\n",
    "# Salvar as alterações no banco de dados\n",
    "conn.commit()\n",
    "\n",
    "# Fechar o cursor e a conexão com o banco de dados\n",
    "cur.close()\n",
    "conn.close()"
   ]
  },
  {
   "cell_type": "code",
   "execution_count": null,
   "id": "34bba677-0c89-47c3-9e3b-1a47606ea823",
   "metadata": {},
   "outputs": [],
   "source": []
  },
  {
   "cell_type": "code",
   "execution_count": null,
   "id": "46158b8c-4a39-4051-b0dc-435a094cb9bf",
   "metadata": {},
   "outputs": [],
   "source": []
  }
 ],
 "metadata": {
  "kernelspec": {
   "display_name": "Python 3 (ipykernel)",
   "language": "python",
   "name": "python3"
  },
  "language_info": {
   "codemirror_mode": {
    "name": "ipython",
    "version": 3
   },
   "file_extension": ".py",
   "mimetype": "text/x-python",
   "name": "python",
   "nbconvert_exporter": "python",
   "pygments_lexer": "ipython3",
   "version": "3.10.10"
  }
 },
 "nbformat": 4,
 "nbformat_minor": 5
}
