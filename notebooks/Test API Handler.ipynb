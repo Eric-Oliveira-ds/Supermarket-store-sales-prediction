{
 "cells": [
  {
   "attachments": {},
   "cell_type": "markdown",
   "metadata": {},
   "source": [
    "# API em Flask \n",
    "    - Objetivo é testar um end-point para consumir o modelo e todo pipeline"
   ]
  },
  {
   "attachments": {},
   "cell_type": "markdown",
   "metadata": {},
   "source": [
    "# Bibliotecas"
   ]
  },
  {
   "cell_type": "code",
   "execution_count": 1,
   "metadata": {},
   "outputs": [],
   "source": [
    "import requests\n",
    "import json\n",
    "import pandas as pd"
   ]
  },
  {
   "attachments": {},
   "cell_type": "markdown",
   "metadata": {},
   "source": [
    "# Testar - API"
   ]
  },
  {
   "cell_type": "code",
   "execution_count": 2,
   "metadata": {},
   "outputs": [],
   "source": [
    "# Fazer uma solicitação GET para o endpoint de previsão consultar o banco de dados e o modelo prever as vendas\n",
    "response = requests.get(\"http://localhost:5500/predict\")\n",
    "\n",
    "# Obter a previsão retornada pelo servidor\n",
    "prediction = json.loads(response.text)"
   ]
  },
  {
   "cell_type": "code",
   "execution_count": 3,
   "metadata": {},
   "outputs": [],
   "source": [
    "result = pd.DataFrame(prediction, columns=['store_id','sales_date','store_area','items_available','daily_customer_count','store_sales',\n",
    "                                            'store_cluster','predict_store_sales','average_store_sales',\n",
    "                                            'mae_model','mape_model','rmse_model','best_scenario_model','worst_scenario_model'])"
   ]
  },
  {
   "cell_type": "code",
   "execution_count": 4,
   "metadata": {},
   "outputs": [
    {
     "data": {
      "text/html": [
       "<div>\n",
       "<style scoped>\n",
       "    .dataframe tbody tr th:only-of-type {\n",
       "        vertical-align: middle;\n",
       "    }\n",
       "\n",
       "    .dataframe tbody tr th {\n",
       "        vertical-align: top;\n",
       "    }\n",
       "\n",
       "    .dataframe thead th {\n",
       "        text-align: right;\n",
       "    }\n",
       "</style>\n",
       "<table border=\"1\" class=\"dataframe\">\n",
       "  <thead>\n",
       "    <tr style=\"text-align: right;\">\n",
       "      <th></th>\n",
       "      <th>store_id</th>\n",
       "      <th>sales_date</th>\n",
       "      <th>store_area</th>\n",
       "      <th>items_available</th>\n",
       "      <th>daily_customer_count</th>\n",
       "      <th>store_sales</th>\n",
       "      <th>store_cluster</th>\n",
       "      <th>predict_store_sales</th>\n",
       "      <th>average_store_sales</th>\n",
       "      <th>mae_model</th>\n",
       "      <th>mape_model</th>\n",
       "      <th>rmse_model</th>\n",
       "      <th>best_scenario_model</th>\n",
       "      <th>worst_scenario_model</th>\n",
       "    </tr>\n",
       "  </thead>\n",
       "  <tbody>\n",
       "    <tr>\n",
       "      <th>0</th>\n",
       "      <td>896</td>\n",
       "      <td>Thu, 15 Jun 2023 00:00:00 GMT</td>\n",
       "      <td>1174</td>\n",
       "      <td>1429</td>\n",
       "      <td>1110</td>\n",
       "      <td>54340</td>\n",
       "      <td>11</td>\n",
       "      <td>58334.967015</td>\n",
       "      <td>54076</td>\n",
       "      <td>3994.967015</td>\n",
       "      <td>0.073518</td>\n",
       "      <td>3994.967015</td>\n",
       "      <td>62329.934029</td>\n",
       "      <td>54340.000000</td>\n",
       "    </tr>\n",
       "    <tr>\n",
       "      <th>1</th>\n",
       "      <td>895</td>\n",
       "      <td>Wed, 14 Jun 2023 00:00:00 GMT</td>\n",
       "      <td>1299</td>\n",
       "      <td>1560</td>\n",
       "      <td>770</td>\n",
       "      <td>96610</td>\n",
       "      <td>1</td>\n",
       "      <td>59284.845700</td>\n",
       "      <td>54076</td>\n",
       "      <td>37325.154300</td>\n",
       "      <td>0.386349</td>\n",
       "      <td>37325.154300</td>\n",
       "      <td>96610.000000</td>\n",
       "      <td>21959.691400</td>\n",
       "    </tr>\n",
       "    <tr>\n",
       "      <th>2</th>\n",
       "      <td>894</td>\n",
       "      <td>Tue, 13 Jun 2023 00:00:00 GMT</td>\n",
       "      <td>1200</td>\n",
       "      <td>1436</td>\n",
       "      <td>1060</td>\n",
       "      <td>76440</td>\n",
       "      <td>11</td>\n",
       "      <td>58385.795468</td>\n",
       "      <td>54076</td>\n",
       "      <td>18054.204532</td>\n",
       "      <td>0.236188</td>\n",
       "      <td>18054.204532</td>\n",
       "      <td>76440.000000</td>\n",
       "      <td>40331.590935</td>\n",
       "    </tr>\n",
       "    <tr>\n",
       "      <th>3</th>\n",
       "      <td>893</td>\n",
       "      <td>Mon, 12 Jun 2023 00:00:00 GMT</td>\n",
       "      <td>1387</td>\n",
       "      <td>1663</td>\n",
       "      <td>850</td>\n",
       "      <td>82080</td>\n",
       "      <td>2</td>\n",
       "      <td>60171.024152</td>\n",
       "      <td>54076</td>\n",
       "      <td>21908.975848</td>\n",
       "      <td>0.266922</td>\n",
       "      <td>21908.975848</td>\n",
       "      <td>82080.000000</td>\n",
       "      <td>38262.048303</td>\n",
       "    </tr>\n",
       "    <tr>\n",
       "      <th>4</th>\n",
       "      <td>892</td>\n",
       "      <td>Sun, 11 Jun 2023 00:00:00 GMT</td>\n",
       "      <td>1582</td>\n",
       "      <td>1910</td>\n",
       "      <td>1080</td>\n",
       "      <td>66390</td>\n",
       "      <td>6</td>\n",
       "      <td>62339.168024</td>\n",
       "      <td>54076</td>\n",
       "      <td>4050.831976</td>\n",
       "      <td>0.061016</td>\n",
       "      <td>4050.831976</td>\n",
       "      <td>66390.000000</td>\n",
       "      <td>58288.336047</td>\n",
       "    </tr>\n",
       "  </tbody>\n",
       "</table>\n",
       "</div>"
      ],
      "text/plain": [
       "   store_id                     sales_date  store_area  items_available  \\\n",
       "0       896  Thu, 15 Jun 2023 00:00:00 GMT        1174             1429   \n",
       "1       895  Wed, 14 Jun 2023 00:00:00 GMT        1299             1560   \n",
       "2       894  Tue, 13 Jun 2023 00:00:00 GMT        1200             1436   \n",
       "3       893  Mon, 12 Jun 2023 00:00:00 GMT        1387             1663   \n",
       "4       892  Sun, 11 Jun 2023 00:00:00 GMT        1582             1910   \n",
       "\n",
       "   daily_customer_count  store_sales  store_cluster  predict_store_sales  \\\n",
       "0                  1110        54340             11         58334.967015   \n",
       "1                   770        96610              1         59284.845700   \n",
       "2                  1060        76440             11         58385.795468   \n",
       "3                   850        82080              2         60171.024152   \n",
       "4                  1080        66390              6         62339.168024   \n",
       "\n",
       "   average_store_sales     mae_model  mape_model    rmse_model  \\\n",
       "0                54076   3994.967015    0.073518   3994.967015   \n",
       "1                54076  37325.154300    0.386349  37325.154300   \n",
       "2                54076  18054.204532    0.236188  18054.204532   \n",
       "3                54076  21908.975848    0.266922  21908.975848   \n",
       "4                54076   4050.831976    0.061016   4050.831976   \n",
       "\n",
       "   best_scenario_model  worst_scenario_model  \n",
       "0         62329.934029          54340.000000  \n",
       "1         96610.000000          21959.691400  \n",
       "2         76440.000000          40331.590935  \n",
       "3         82080.000000          38262.048303  \n",
       "4         66390.000000          58288.336047  "
      ]
     },
     "execution_count": 4,
     "metadata": {},
     "output_type": "execute_result"
    }
   ],
   "source": [
    "result.head()"
   ]
  },
  {
   "cell_type": "code",
   "execution_count": null,
   "metadata": {},
   "outputs": [],
   "source": [
    "result.shape"
   ]
  }
 ],
 "metadata": {
  "kernelspec": {
   "display_name": "Python 3 (ipykernel)",
   "language": "python",
   "name": "python3"
  },
  "language_info": {
   "codemirror_mode": {
    "name": "ipython",
    "version": 3
   },
   "file_extension": ".py",
   "mimetype": "text/x-python",
   "name": "python",
   "nbconvert_exporter": "python",
   "pygments_lexer": "ipython3",
   "version": "3.10.10"
  }
 },
 "nbformat": 4,
 "nbformat_minor": 4
}
